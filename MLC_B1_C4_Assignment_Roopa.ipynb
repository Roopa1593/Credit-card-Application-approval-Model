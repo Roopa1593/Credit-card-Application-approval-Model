{
 "cells": [
  {
   "cell_type": "markdown",
   "metadata": {},
   "source": [
    "<font size=5 >Credit Card Approval Prediction</font>"
   ]
  },
  {
   "cell_type": "code",
   "execution_count": 1,
   "metadata": {},
   "outputs": [],
   "source": [
    "from pyspark import SparkContext\n",
    "from pyspark.sql import SparkSession\n",
    "spark = SparkSession.builder.appName(\"how to read csv file\").getOrCreate()\n",
    "cr = spark.read.format(\"csv\").option(\"header\", \"true\").option(\"inferSchema\", \"true\"). load(\"credit_record.csv\")\n",
    "appr = spark.read.format(\"csv\").option(\"header\", \"true\").option(\"inferSchema\", \"true\").load(\"application_record.csv\")\n",
    "appr = appr.dropDuplicates(['ID'])"
   ]
  },
  {
   "cell_type": "code",
   "execution_count": 2,
   "metadata": {},
   "outputs": [
    {
     "data": {
      "text/plain": [
       "[Row(ID=5001711, MONTHS_BALANCE=0, STATUS='X'),\n",
       " Row(ID=5001711, MONTHS_BALANCE=-1, STATUS='0'),\n",
       " Row(ID=5001711, MONTHS_BALANCE=-2, STATUS='0'),\n",
       " Row(ID=5001711, MONTHS_BALANCE=-3, STATUS='0'),\n",
       " Row(ID=5001712, MONTHS_BALANCE=0, STATUS='C')]"
      ]
     },
     "execution_count": 2,
     "metadata": {},
     "output_type": "execute_result"
    }
   ],
   "source": [
    "cr.head(5)"
   ]
  },
  {
   "cell_type": "code",
   "execution_count": 3,
   "metadata": {},
   "outputs": [
    {
     "data": {
      "text/plain": [
       "[Row(ID=5009033, CODE_GENDER='F', FLAG_OWN_CAR='N', FLAG_OWN_REALTY='N', CNT_CHILDREN=0, AMT_INCOME_TOTAL=255150.0, NAME_INCOME_TYPE='Pensioner', NAME_EDUCATION_TYPE='Incomplete higher', NAME_FAMILY_STATUS='Civil marriage', NAME_HOUSING_TYPE='Rented apartment', DAYS_BIRTH=-18682, DAYS_EMPLOYED=365243, FLAG_MOBIL=1, FLAG_WORK_PHONE=0, FLAG_PHONE=0, FLAG_EMAIL=0, OCCUPATION_TYPE=None, CNT_FAM_MEMBERS=2.0),\n",
       " Row(ID=5009304, CODE_GENDER='F', FLAG_OWN_CAR='N', FLAG_OWN_REALTY='N', CNT_CHILDREN=0, AMT_INCOME_TOTAL=112500.0, NAME_INCOME_TYPE='Pensioner', NAME_EDUCATION_TYPE='Secondary / secondary special', NAME_FAMILY_STATUS='Widow', NAME_HOUSING_TYPE='House / apartment', DAYS_BIRTH=-22061, DAYS_EMPLOYED=365243, FLAG_MOBIL=1, FLAG_WORK_PHONE=0, FLAG_PHONE=0, FLAG_EMAIL=0, OCCUPATION_TYPE=None, CNT_FAM_MEMBERS=1.0),\n",
       " Row(ID=5009355, CODE_GENDER='F', FLAG_OWN_CAR='N', FLAG_OWN_REALTY='N', CNT_CHILDREN=0, AMT_INCOME_TOTAL=135000.0, NAME_INCOME_TYPE='Commercial associate', NAME_EDUCATION_TYPE='Secondary / secondary special', NAME_FAMILY_STATUS='Married', NAME_HOUSING_TYPE='House / apartment', DAYS_BIRTH=-19692, DAYS_EMPLOYED=-5273, FLAG_MOBIL=1, FLAG_WORK_PHONE=1, FLAG_PHONE=1, FLAG_EMAIL=0, OCCUPATION_TYPE='Laborers', CNT_FAM_MEMBERS=2.0),\n",
       " Row(ID=5009429, CODE_GENDER='M', FLAG_OWN_CAR='N', FLAG_OWN_REALTY='N', CNT_CHILDREN=0, AMT_INCOME_TOTAL=198000.0, NAME_INCOME_TYPE='Working', NAME_EDUCATION_TYPE='Secondary / secondary special', NAME_FAMILY_STATUS='Single / not married', NAME_HOUSING_TYPE='With parents', DAYS_BIRTH=-8657, DAYS_EMPLOYED=-1164, FLAG_MOBIL=1, FLAG_WORK_PHONE=1, FLAG_PHONE=0, FLAG_EMAIL=0, OCCUPATION_TYPE='Laborers', CNT_FAM_MEMBERS=1.0),\n",
       " Row(ID=5010070, CODE_GENDER='F', FLAG_OWN_CAR='N', FLAG_OWN_REALTY='Y', CNT_CHILDREN=0, AMT_INCOME_TOTAL=279000.0, NAME_INCOME_TYPE='State servant', NAME_EDUCATION_TYPE='Higher education', NAME_FAMILY_STATUS='Single / not married', NAME_HOUSING_TYPE='House / apartment', DAYS_BIRTH=-11091, DAYS_EMPLOYED=-617, FLAG_MOBIL=1, FLAG_WORK_PHONE=0, FLAG_PHONE=0, FLAG_EMAIL=1, OCCUPATION_TYPE='Managers', CNT_FAM_MEMBERS=1.0)]"
      ]
     },
     "execution_count": 3,
     "metadata": {},
     "output_type": "execute_result"
    }
   ],
   "source": [
    "appr.head(5)"
   ]
  },
  {
   "cell_type": "code",
   "execution_count": 4,
   "metadata": {},
   "outputs": [],
   "source": [
    "import pandas as pd\n",
    "import numpy as np\n",
    "appr=appr.toPandas()\n",
    "cr=cr.toPandas()\n",
    "#Find Age \n",
    "appr['Age']=appr['DAYS_BIRTH']/365\n",
    "appr['Age']=round(abs(appr['Age']))\n",
    "#Find experience \n",
    "appr['Exp']=appr['DAYS_EMPLOYED']/365\n",
    "appr['Exp']=round(abs(appr['Exp']))\n",
    "cr['RELN_MONTHS']=abs(cr['MONTHS_BALANCE'])"
   ]
  },
  {
   "cell_type": "code",
   "execution_count": 5,
   "metadata": {},
   "outputs": [
    {
     "data": {
      "text/html": [
       "<div>\n",
       "<style scoped>\n",
       "    .dataframe tbody tr th:only-of-type {\n",
       "        vertical-align: middle;\n",
       "    }\n",
       "\n",
       "    .dataframe tbody tr th {\n",
       "        vertical-align: top;\n",
       "    }\n",
       "\n",
       "    .dataframe thead th {\n",
       "        text-align: right;\n",
       "    }\n",
       "</style>\n",
       "<table border=\"1\" class=\"dataframe\">\n",
       "  <thead>\n",
       "    <tr style=\"text-align: right;\">\n",
       "      <th></th>\n",
       "      <th>ID</th>\n",
       "      <th>MONTHS_BALANCE</th>\n",
       "      <th>STATUS</th>\n",
       "      <th>RELN_MONTHS</th>\n",
       "    </tr>\n",
       "  </thead>\n",
       "  <tbody>\n",
       "    <tr>\n",
       "      <th>0</th>\n",
       "      <td>5001711</td>\n",
       "      <td>0</td>\n",
       "      <td>X</td>\n",
       "      <td>0</td>\n",
       "    </tr>\n",
       "    <tr>\n",
       "      <th>1</th>\n",
       "      <td>5001711</td>\n",
       "      <td>-1</td>\n",
       "      <td>0</td>\n",
       "      <td>1</td>\n",
       "    </tr>\n",
       "    <tr>\n",
       "      <th>2</th>\n",
       "      <td>5001711</td>\n",
       "      <td>-2</td>\n",
       "      <td>0</td>\n",
       "      <td>2</td>\n",
       "    </tr>\n",
       "    <tr>\n",
       "      <th>3</th>\n",
       "      <td>5001711</td>\n",
       "      <td>-3</td>\n",
       "      <td>0</td>\n",
       "      <td>3</td>\n",
       "    </tr>\n",
       "    <tr>\n",
       "      <th>4</th>\n",
       "      <td>5001712</td>\n",
       "      <td>0</td>\n",
       "      <td>C</td>\n",
       "      <td>0</td>\n",
       "    </tr>\n",
       "  </tbody>\n",
       "</table>\n",
       "</div>"
      ],
      "text/plain": [
       "        ID  MONTHS_BALANCE STATUS  RELN_MONTHS\n",
       "0  5001711               0      X            0\n",
       "1  5001711              -1      0            1\n",
       "2  5001711              -2      0            2\n",
       "3  5001711              -3      0            3\n",
       "4  5001712               0      C            0"
      ]
     },
     "execution_count": 5,
     "metadata": {},
     "output_type": "execute_result"
    }
   ],
   "source": [
    "cr.head(5)"
   ]
  },
  {
   "cell_type": "code",
   "execution_count": 6,
   "metadata": {},
   "outputs": [
    {
     "data": {
      "text/html": [
       "<div>\n",
       "<style scoped>\n",
       "    .dataframe tbody tr th:only-of-type {\n",
       "        vertical-align: middle;\n",
       "    }\n",
       "\n",
       "    .dataframe tbody tr th {\n",
       "        vertical-align: top;\n",
       "    }\n",
       "\n",
       "    .dataframe thead th {\n",
       "        text-align: right;\n",
       "    }\n",
       "</style>\n",
       "<table border=\"1\" class=\"dataframe\">\n",
       "  <thead>\n",
       "    <tr style=\"text-align: right;\">\n",
       "      <th></th>\n",
       "      <th>ID</th>\n",
       "      <th>CODE_GENDER</th>\n",
       "      <th>FLAG_OWN_CAR</th>\n",
       "      <th>FLAG_OWN_REALTY</th>\n",
       "      <th>CNT_CHILDREN</th>\n",
       "      <th>AMT_INCOME_TOTAL</th>\n",
       "      <th>NAME_INCOME_TYPE</th>\n",
       "      <th>NAME_EDUCATION_TYPE</th>\n",
       "      <th>NAME_FAMILY_STATUS</th>\n",
       "      <th>NAME_HOUSING_TYPE</th>\n",
       "      <th>DAYS_BIRTH</th>\n",
       "      <th>DAYS_EMPLOYED</th>\n",
       "      <th>FLAG_MOBIL</th>\n",
       "      <th>FLAG_WORK_PHONE</th>\n",
       "      <th>FLAG_PHONE</th>\n",
       "      <th>FLAG_EMAIL</th>\n",
       "      <th>OCCUPATION_TYPE</th>\n",
       "      <th>CNT_FAM_MEMBERS</th>\n",
       "      <th>Age</th>\n",
       "      <th>Exp</th>\n",
       "    </tr>\n",
       "  </thead>\n",
       "  <tbody>\n",
       "    <tr>\n",
       "      <th>0</th>\n",
       "      <td>5009033</td>\n",
       "      <td>F</td>\n",
       "      <td>N</td>\n",
       "      <td>N</td>\n",
       "      <td>0</td>\n",
       "      <td>255150.0</td>\n",
       "      <td>Pensioner</td>\n",
       "      <td>Incomplete higher</td>\n",
       "      <td>Civil marriage</td>\n",
       "      <td>Rented apartment</td>\n",
       "      <td>-18682</td>\n",
       "      <td>365243</td>\n",
       "      <td>1</td>\n",
       "      <td>0</td>\n",
       "      <td>0</td>\n",
       "      <td>0</td>\n",
       "      <td>None</td>\n",
       "      <td>2.0</td>\n",
       "      <td>51.0</td>\n",
       "      <td>1001.0</td>\n",
       "    </tr>\n",
       "    <tr>\n",
       "      <th>1</th>\n",
       "      <td>5009304</td>\n",
       "      <td>F</td>\n",
       "      <td>N</td>\n",
       "      <td>N</td>\n",
       "      <td>0</td>\n",
       "      <td>112500.0</td>\n",
       "      <td>Pensioner</td>\n",
       "      <td>Secondary / secondary special</td>\n",
       "      <td>Widow</td>\n",
       "      <td>House / apartment</td>\n",
       "      <td>-22061</td>\n",
       "      <td>365243</td>\n",
       "      <td>1</td>\n",
       "      <td>0</td>\n",
       "      <td>0</td>\n",
       "      <td>0</td>\n",
       "      <td>None</td>\n",
       "      <td>1.0</td>\n",
       "      <td>60.0</td>\n",
       "      <td>1001.0</td>\n",
       "    </tr>\n",
       "    <tr>\n",
       "      <th>2</th>\n",
       "      <td>5009355</td>\n",
       "      <td>F</td>\n",
       "      <td>N</td>\n",
       "      <td>N</td>\n",
       "      <td>0</td>\n",
       "      <td>135000.0</td>\n",
       "      <td>Commercial associate</td>\n",
       "      <td>Secondary / secondary special</td>\n",
       "      <td>Married</td>\n",
       "      <td>House / apartment</td>\n",
       "      <td>-19692</td>\n",
       "      <td>-5273</td>\n",
       "      <td>1</td>\n",
       "      <td>1</td>\n",
       "      <td>1</td>\n",
       "      <td>0</td>\n",
       "      <td>Laborers</td>\n",
       "      <td>2.0</td>\n",
       "      <td>54.0</td>\n",
       "      <td>14.0</td>\n",
       "    </tr>\n",
       "    <tr>\n",
       "      <th>3</th>\n",
       "      <td>5009429</td>\n",
       "      <td>M</td>\n",
       "      <td>N</td>\n",
       "      <td>N</td>\n",
       "      <td>0</td>\n",
       "      <td>198000.0</td>\n",
       "      <td>Working</td>\n",
       "      <td>Secondary / secondary special</td>\n",
       "      <td>Single / not married</td>\n",
       "      <td>With parents</td>\n",
       "      <td>-8657</td>\n",
       "      <td>-1164</td>\n",
       "      <td>1</td>\n",
       "      <td>1</td>\n",
       "      <td>0</td>\n",
       "      <td>0</td>\n",
       "      <td>Laborers</td>\n",
       "      <td>1.0</td>\n",
       "      <td>24.0</td>\n",
       "      <td>3.0</td>\n",
       "    </tr>\n",
       "    <tr>\n",
       "      <th>4</th>\n",
       "      <td>5010070</td>\n",
       "      <td>F</td>\n",
       "      <td>N</td>\n",
       "      <td>Y</td>\n",
       "      <td>0</td>\n",
       "      <td>279000.0</td>\n",
       "      <td>State servant</td>\n",
       "      <td>Higher education</td>\n",
       "      <td>Single / not married</td>\n",
       "      <td>House / apartment</td>\n",
       "      <td>-11091</td>\n",
       "      <td>-617</td>\n",
       "      <td>1</td>\n",
       "      <td>0</td>\n",
       "      <td>0</td>\n",
       "      <td>1</td>\n",
       "      <td>Managers</td>\n",
       "      <td>1.0</td>\n",
       "      <td>30.0</td>\n",
       "      <td>2.0</td>\n",
       "    </tr>\n",
       "  </tbody>\n",
       "</table>\n",
       "</div>"
      ],
      "text/plain": [
       "        ID CODE_GENDER FLAG_OWN_CAR FLAG_OWN_REALTY  CNT_CHILDREN  \\\n",
       "0  5009033           F            N               N             0   \n",
       "1  5009304           F            N               N             0   \n",
       "2  5009355           F            N               N             0   \n",
       "3  5009429           M            N               N             0   \n",
       "4  5010070           F            N               Y             0   \n",
       "\n",
       "   AMT_INCOME_TOTAL      NAME_INCOME_TYPE            NAME_EDUCATION_TYPE  \\\n",
       "0          255150.0             Pensioner              Incomplete higher   \n",
       "1          112500.0             Pensioner  Secondary / secondary special   \n",
       "2          135000.0  Commercial associate  Secondary / secondary special   \n",
       "3          198000.0               Working  Secondary / secondary special   \n",
       "4          279000.0         State servant               Higher education   \n",
       "\n",
       "     NAME_FAMILY_STATUS  NAME_HOUSING_TYPE  DAYS_BIRTH  DAYS_EMPLOYED  \\\n",
       "0        Civil marriage   Rented apartment      -18682         365243   \n",
       "1                 Widow  House / apartment      -22061         365243   \n",
       "2               Married  House / apartment      -19692          -5273   \n",
       "3  Single / not married       With parents       -8657          -1164   \n",
       "4  Single / not married  House / apartment      -11091           -617   \n",
       "\n",
       "   FLAG_MOBIL  FLAG_WORK_PHONE  FLAG_PHONE  FLAG_EMAIL OCCUPATION_TYPE  \\\n",
       "0           1                0           0           0            None   \n",
       "1           1                0           0           0            None   \n",
       "2           1                1           1           0        Laborers   \n",
       "3           1                1           0           0        Laborers   \n",
       "4           1                0           0           1        Managers   \n",
       "\n",
       "   CNT_FAM_MEMBERS   Age     Exp  \n",
       "0              2.0  51.0  1001.0  \n",
       "1              1.0  60.0  1001.0  \n",
       "2              2.0  54.0    14.0  \n",
       "3              1.0  24.0     3.0  \n",
       "4              1.0  30.0     2.0  "
      ]
     },
     "execution_count": 6,
     "metadata": {},
     "output_type": "execute_result"
    }
   ],
   "source": [
    "appr.head(5)"
   ]
  },
  {
   "cell_type": "code",
   "execution_count": 7,
   "metadata": {},
   "outputs": [],
   "source": [
    "app=spark.createDataFrame(appr)\n",
    "record=spark.createDataFrame(cr)"
   ]
  },
  {
   "cell_type": "code",
   "execution_count": 8,
   "metadata": {},
   "outputs": [
    {
     "data": {
      "text/plain": [
       "294406"
      ]
     },
     "execution_count": 8,
     "metadata": {},
     "output_type": "execute_result"
    }
   ],
   "source": [
    "#What is the proportion of females in the applicant customer base?\n",
    "app.filter(app.CODE_GENDER == \"F\").count()"
   ]
  },
  {
   "cell_type": "code",
   "execution_count": 9,
   "metadata": {},
   "outputs": [
    {
     "data": {
      "text/plain": [
       "267580"
      ]
     },
     "execution_count": 9,
     "metadata": {},
     "output_type": "execute_result"
    }
   ],
   "source": [
    "#2.Is homeownership higher among male applicants or female applicants?\n",
    "app.filter((app.CODE_GENDER == \"F\") & (app.NAME_HOUSING_TYPE == 'House / apartment')).count()"
   ]
  },
  {
   "cell_type": "code",
   "execution_count": 10,
   "metadata": {},
   "outputs": [],
   "source": [
    "#3.Is there any correlation between the customer's income level and education level? \n",
    "#yes "
   ]
  },
  {
   "cell_type": "code",
   "execution_count": 11,
   "metadata": {},
   "outputs": [
    {
     "data": {
      "text/plain": [
       "count    4.385100e+05\n",
       "mean     1.875254e+05\n",
       "std      1.100893e+05\n",
       "min      2.610000e+04\n",
       "25%      1.215000e+05\n",
       "50%      1.609402e+05\n",
       "75%      2.250000e+05\n",
       "max      6.750000e+06\n",
       "Name: AMT_INCOME_TOTAL, dtype: float64"
      ]
     },
     "execution_count": 11,
     "metadata": {},
     "output_type": "execute_result"
    }
   ],
   "source": [
    "#4What is the average and median salary of the applicant base?\n",
    "app1=app.toPandas()\n",
    "app1['AMT_INCOME_TOTAL'].describe()"
   ]
  },
  {
   "cell_type": "code",
   "execution_count": 12,
   "metadata": {},
   "outputs": [
    {
     "data": {
      "text/plain": [
       "160940.25"
      ]
     },
     "execution_count": 12,
     "metadata": {},
     "output_type": "execute_result"
    }
   ],
   "source": [
    "app1['AMT_INCOME_TOTAL'].median()"
   ]
  },
  {
   "cell_type": "code",
   "execution_count": 13,
   "metadata": {},
   "outputs": [],
   "source": [
    "#5.Is the proportion of bad customers higher for people who own cars? \n",
    "#Ans:No"
   ]
  },
  {
   "cell_type": "code",
   "execution_count": 14,
   "metadata": {},
   "outputs": [
    {
     "data": {
      "text/plain": [
       "70"
      ]
     },
     "execution_count": 14,
     "metadata": {},
     "output_type": "execute_result"
    }
   ],
   "source": [
    "df2 = record.join(app,['ID']) \n",
    "df2 = df2.dropDuplicates(['ID']) \n",
    "df2=df2.na.fill('Others',['OCCUPATION_TYPE'])\n",
    "df2.filter((df2.STATUS >= 2) & (df2.FLAG_OWN_CAR == 'N')).count()\n"
   ]
  },
  {
   "cell_type": "code",
   "execution_count": 15,
   "metadata": {},
   "outputs": [
    {
     "data": {
      "text/plain": [
       "104"
      ]
     },
     "execution_count": 15,
     "metadata": {},
     "output_type": "execute_result"
    }
   ],
   "source": [
    "#6.Is the proportion of bad customers higher for those living on rent than the rest of th e population?\n",
    "#Ans:No\n",
    "df2.filter((df2.STATUS >= 2) & (df2.NAME_HOUSING_TYPE != 'Rented apartment')).count()"
   ]
  },
  {
   "cell_type": "code",
   "execution_count": 16,
   "metadata": {},
   "outputs": [
    {
     "data": {
      "text/plain": [
       "70"
      ]
     },
     "execution_count": 16,
     "metadata": {},
     "output_type": "execute_result"
    }
   ],
   "source": [
    "#Is the proportion of bad customers higher for those who are single than married customers?\n",
    "#Ans:No\n",
    "df2.filter((df2.STATUS >= 2) & (df2.NAME_FAMILY_STATUS == 'Married')).count()"
   ]
  },
  {
   "cell_type": "code",
   "execution_count": 17,
   "metadata": {},
   "outputs": [],
   "source": [
    "app = app.drop('DAYS_BIRTH','DAYS_EMPLOYED')\n",
    "#not required as we calculated age and experience"
   ]
  },
  {
   "cell_type": "code",
   "execution_count": 18,
   "metadata": {},
   "outputs": [
    {
     "data": {
      "text/plain": [
       "3104"
      ]
     },
     "execution_count": 18,
     "metadata": {},
     "output_type": "execute_result"
    }
   ],
   "source": [
    "record.filter(record.STATUS >= 2).count()"
   ]
  },
  {
   "cell_type": "code",
   "execution_count": 19,
   "metadata": {},
   "outputs": [],
   "source": [
    "from pyspark.sql import functions as f\n",
    "record=record.withColumn('DEL_STATUS', f.when(f.col('STATUS') >= 2, \"Yes\").otherwise(\"No\") )"
   ]
  },
  {
   "cell_type": "code",
   "execution_count": 20,
   "metadata": {},
   "outputs": [
    {
     "data": {
      "text/plain": [
       "3104"
      ]
     },
     "execution_count": 20,
     "metadata": {},
     "output_type": "execute_result"
    }
   ],
   "source": [
    "record.filter(record.DEL_STATUS == \"Yes\").count()"
   ]
  },
  {
   "cell_type": "code",
   "execution_count": 21,
   "metadata": {},
   "outputs": [],
   "source": [
    "df = record.join(app,['ID'])\n",
    "#merge the dataframes"
   ]
  },
  {
   "cell_type": "code",
   "execution_count": 22,
   "metadata": {},
   "outputs": [
    {
     "name": "stdout",
     "output_type": "stream",
     "text": [
      "+-------+--------------+------+-----------+----------+-----------+------------+---------------+------------+----------------+----------------+--------------------+------------------+-----------------+----------+---------------+----------+----------+---------------+---------------+----+------+\n",
      "|     ID|MONTHS_BALANCE|STATUS|RELN_MONTHS|DEL_STATUS|CODE_GENDER|FLAG_OWN_CAR|FLAG_OWN_REALTY|CNT_CHILDREN|AMT_INCOME_TOTAL|NAME_INCOME_TYPE| NAME_EDUCATION_TYPE|NAME_FAMILY_STATUS|NAME_HOUSING_TYPE|FLAG_MOBIL|FLAG_WORK_PHONE|FLAG_PHONE|FLAG_EMAIL|OCCUPATION_TYPE|CNT_FAM_MEMBERS| Age|   Exp|\n",
      "+-------+--------------+------+-----------+----------+-----------+------------+---------------+------------+----------------+----------------+--------------------+------------------+-----------------+----------+---------------+----------+----------+---------------+---------------+----+------+\n",
      "|5008867|           -22|     X|         22|        No|          F|           Y|              Y|           2|        135000.0|         Working|Secondary / secon...|           Married|House / apartment|         1|              0|         0|         0|       Laborers|            4.0|43.0|   9.0|\n",
      "|5008867|           -23|     0|         23|        No|          F|           Y|              Y|           2|        135000.0|         Working|Secondary / secon...|           Married|House / apartment|         1|              0|         0|         0|       Laborers|            4.0|43.0|   9.0|\n",
      "|5008867|           -24|     0|         24|        No|          F|           Y|              Y|           2|        135000.0|         Working|Secondary / secon...|           Married|House / apartment|         1|              0|         0|         0|       Laborers|            4.0|43.0|   9.0|\n",
      "|5008867|           -25|     X|         25|        No|          F|           Y|              Y|           2|        135000.0|         Working|Secondary / secon...|           Married|House / apartment|         1|              0|         0|         0|       Laborers|            4.0|43.0|   9.0|\n",
      "|5009438|            -5|     C|          5|        No|          F|           N|              N|           0|         76500.0|       Pensioner|Secondary / secon...|           Married|House / apartment|         1|              0|         0|         0|           null|            2.0|64.0|1001.0|\n",
      "|5009438|            -6|     C|          6|        No|          F|           N|              N|           0|         76500.0|       Pensioner|Secondary / secon...|           Married|House / apartment|         1|              0|         0|         0|           null|            2.0|64.0|1001.0|\n",
      "|5009438|            -7|     C|          7|        No|          F|           N|              N|           0|         76500.0|       Pensioner|Secondary / secon...|           Married|House / apartment|         1|              0|         0|         0|           null|            2.0|64.0|1001.0|\n",
      "|5009438|            -8|     C|          8|        No|          F|           N|              N|           0|         76500.0|       Pensioner|Secondary / secon...|           Married|House / apartment|         1|              0|         0|         0|           null|            2.0|64.0|1001.0|\n",
      "|5009438|            -9|     C|          9|        No|          F|           N|              N|           0|         76500.0|       Pensioner|Secondary / secon...|           Married|House / apartment|         1|              0|         0|         0|           null|            2.0|64.0|1001.0|\n",
      "|5010632|           -22|     C|         22|        No|          F|           Y|              Y|           0|        180000.0|         Working|Secondary / secon...|    Civil marriage|House / apartment|         1|              0|         0|         0|    Sales staff|            2.0|34.0|   2.0|\n",
      "|5010632|           -23|     C|         23|        No|          F|           Y|              Y|           0|        180000.0|         Working|Secondary / secon...|    Civil marriage|House / apartment|         1|              0|         0|         0|    Sales staff|            2.0|34.0|   2.0|\n",
      "|5010632|           -24|     C|         24|        No|          F|           Y|              Y|           0|        180000.0|         Working|Secondary / secon...|    Civil marriage|House / apartment|         1|              0|         0|         0|    Sales staff|            2.0|34.0|   2.0|\n",
      "|5010632|           -25|     C|         25|        No|          F|           Y|              Y|           0|        180000.0|         Working|Secondary / secon...|    Civil marriage|House / apartment|         1|              0|         0|         0|    Sales staff|            2.0|34.0|   2.0|\n",
      "|5010632|           -26|     C|         26|        No|          F|           Y|              Y|           0|        180000.0|         Working|Secondary / secon...|    Civil marriage|House / apartment|         1|              0|         0|         0|    Sales staff|            2.0|34.0|   2.0|\n",
      "|5010632|           -27|     C|         27|        No|          F|           Y|              Y|           0|        180000.0|         Working|Secondary / secon...|    Civil marriage|House / apartment|         1|              0|         0|         0|    Sales staff|            2.0|34.0|   2.0|\n",
      "|5010632|           -28|     C|         28|        No|          F|           Y|              Y|           0|        180000.0|         Working|Secondary / secon...|    Civil marriage|House / apartment|         1|              0|         0|         0|    Sales staff|            2.0|34.0|   2.0|\n",
      "|5010632|           -29|     C|         29|        No|          F|           Y|              Y|           0|        180000.0|         Working|Secondary / secon...|    Civil marriage|House / apartment|         1|              0|         0|         0|    Sales staff|            2.0|34.0|   2.0|\n",
      "|5010632|           -30|     C|         30|        No|          F|           Y|              Y|           0|        180000.0|         Working|Secondary / secon...|    Civil marriage|House / apartment|         1|              0|         0|         0|    Sales staff|            2.0|34.0|   2.0|\n",
      "|5010632|           -31|     C|         31|        No|          F|           Y|              Y|           0|        180000.0|         Working|Secondary / secon...|    Civil marriage|House / apartment|         1|              0|         0|         0|    Sales staff|            2.0|34.0|   2.0|\n",
      "|5010632|           -32|     C|         32|        No|          F|           Y|              Y|           0|        180000.0|         Working|Secondary / secon...|    Civil marriage|House / apartment|         1|              0|         0|         0|    Sales staff|            2.0|34.0|   2.0|\n",
      "+-------+--------------+------+-----------+----------+-----------+------------+---------------+------------+----------------+----------------+--------------------+------------------+-----------------+----------+---------------+----------+----------+---------------+---------------+----+------+\n",
      "only showing top 20 rows\n",
      "\n"
     ]
    }
   ],
   "source": [
    "df.show()"
   ]
  },
  {
   "cell_type": "code",
   "execution_count": 23,
   "metadata": {},
   "outputs": [],
   "source": [
    "df=df.dropDuplicates(['ID']) \n",
    "df=df.na.fill('Others',['OCCUPATION_TYPE'])\n",
    "#fill na for occupationtype"
   ]
  },
  {
   "cell_type": "code",
   "execution_count": 24,
   "metadata": {},
   "outputs": [
    {
     "data": {
      "text/plain": [
       "36457"
      ]
     },
     "execution_count": 24,
     "metadata": {},
     "output_type": "execute_result"
    }
   ],
   "source": [
    "df.count()"
   ]
  },
  {
   "cell_type": "code",
   "execution_count": 25,
   "metadata": {},
   "outputs": [],
   "source": [
    "from pyspark.sql.functions import col\n",
    "df=df.filter(~((df.DEL_STATUS == \"No\") & (df.OCCUPATION_TYPE == \"Others\")))"
   ]
  },
  {
   "cell_type": "code",
   "execution_count": 26,
   "metadata": {},
   "outputs": [],
   "source": [
    "#pip install seaborn"
   ]
  },
  {
   "cell_type": "code",
   "execution_count": 27,
   "metadata": {},
   "outputs": [
    {
     "data": {
      "text/plain": [
       "<AxesSubplot:xlabel='Exp'>"
      ]
     },
     "execution_count": 27,
     "metadata": {},
     "output_type": "execute_result"
    },
    {
     "data": {
      "image/png": "[encoded data removed]",
      "text/plain": [
       "<Figure size 432x288 with 1 Axes>"
      ]
     },
     "metadata": {},
     "output_type": "display_data"
    }
   ],
   "source": [
    "import seaborn \n",
    "seaborn.set(style='whitegrid')\n",
    "pd1=df.toPandas()\n",
    "#check for outlier\n",
    "seaborn.boxplot(x =pd1['Exp'])"
   ]
  },
  {
   "cell_type": "code",
   "execution_count": 28,
   "metadata": {},
   "outputs": [],
   "source": [
    "df=df.withColumn('Exp', f.when(f.col('Exp') == 1001, 7.25).otherwise(f.col('Exp')))"
   ]
  },
  {
   "cell_type": "code",
   "execution_count": 29,
   "metadata": {},
   "outputs": [
    {
     "name": "stdout",
     "output_type": "stream",
     "text": [
      "+-------+--------------+------+-----------+----------+-----------+------------+---------------+------------+----------------+--------------------+--------------------+--------------------+-------------------+----------+---------------+----------+----------+---------------+---------------+----+----+\n",
      "|     ID|MONTHS_BALANCE|STATUS|RELN_MONTHS|DEL_STATUS|CODE_GENDER|FLAG_OWN_CAR|FLAG_OWN_REALTY|CNT_CHILDREN|AMT_INCOME_TOTAL|    NAME_INCOME_TYPE| NAME_EDUCATION_TYPE|  NAME_FAMILY_STATUS|  NAME_HOUSING_TYPE|FLAG_MOBIL|FLAG_WORK_PHONE|FLAG_PHONE|FLAG_EMAIL|OCCUPATION_TYPE|CNT_FAM_MEMBERS| Age| Exp|\n",
      "+-------+--------------+------+-----------+----------+-----------+------------+---------------+------------+----------------+--------------------+--------------------+--------------------+-------------------+----------+---------------+----------+----------+---------------+---------------+----+----+\n",
      "|5008867|           -22|     X|         22|        No|          F|           Y|              Y|           2|        135000.0|             Working|Secondary / secon...|             Married|  House / apartment|         1|              0|         0|         0|       Laborers|            4.0|43.0| 9.0|\n",
      "|5010632|           -22|     C|         22|        No|          F|           Y|              Y|           0|        180000.0|             Working|Secondary / secon...|      Civil marriage|  House / apartment|         1|              0|         0|         0|    Sales staff|            2.0|34.0| 2.0|\n",
      "|5010779|             0|     X|          0|        No|          F|           Y|              Y|           1|        157500.0|Commercial associate|    Higher education|             Married|  House / apartment|         1|              0|         0|         1|     Core staff|            3.0|40.0| 6.0|\n",
      "|5021295|           -16|     C|         16|        No|          F|           Y|              Y|           1|        180000.0|Commercial associate|    Higher education|             Married|  House / apartment|         1|              0|         0|         1|     Core staff|            3.0|33.0| 1.0|\n",
      "|5021488|             0|     C|          0|        No|          M|           Y|              Y|           0|        135000.0|Commercial associate|Secondary / secon...|      Civil marriage|       With parents|         1|              0|         0|         0|       Laborers|            2.0|29.0| 4.0|\n",
      "|5022543|             0|     C|          0|        No|          F|           N|              Y|           0|        247500.0|Commercial associate|    Higher education|Single / not married|  House / apartment|         1|              0|         0|         1|     Core staff|            1.0|33.0| 6.0|\n",
      "|5023097|             0|     0|          0|        No|          M|           Y|              Y|           1|        180000.0|             Working|Secondary / secon...|             Married|  House / apartment|         1|              0|         0|         0|        Drivers|            3.0|46.0|12.0|\n",
      "|5023124|             0|     X|          0|        No|          F|           Y|              N|           0|        328500.0|Commercial associate|Secondary / secon...|             Married|  House / apartment|         1|              0|         0|         0|  Realty agents|            2.0|35.0| 5.0|\n",
      "|5023129|             0|     X|          0|        No|          F|           Y|              N|           0|        328500.0|Commercial associate|Secondary / secon...|             Married|  House / apartment|         1|              0|         0|         0|  Realty agents|            2.0|35.0| 5.0|\n",
      "|5023161|             0|     0|          0|        No|          F|           N|              N|           0|        126000.0|Commercial associate|Secondary / secon...|             Married|Municipal apartment|         1|              1|         1|         0|    Sales staff|            2.0|37.0|17.0|\n",
      "|5023503|           -18|     C|         18|        No|          F|           N|              N|           1|         63000.0|             Working|Secondary / secon...|Single / not married|Municipal apartment|         1|              0|         0|         0| Cleaning staff|            2.0|46.0|13.0|\n",
      "|5023551|             0|     C|          0|        No|          F|           N|              N|           0|        202500.0|Commercial associate|    Higher education|Single / not married|  House / apartment|         1|              0|         0|         0|       Managers|            1.0|34.0| 5.0|\n",
      "|5023685|             0|     0|          0|        No|          M|           Y|              Y|           0|        279000.0|Commercial associate|    Higher education|             Married|  House / apartment|         1|              0|         1|         0|       Laborers|            2.0|57.0|11.0|\n",
      "|5024047|             0|     C|          0|        No|          F|           Y|              Y|           1|        144000.0|             Working|    Higher education|             Married|  House / apartment|         1|              0|         0|         0|    Accountants|            3.0|35.0| 8.0|\n",
      "|5024130|             0|     0|          0|        No|          F|           N|              Y|           1|        135000.0|             Working|Secondary / secon...|               Widow|  House / apartment|         1|              0|         0|         0|    Sales staff|            2.0|43.0| 1.0|\n",
      "|5024346|             0|     C|          0|        No|          M|           Y|              Y|           0|        585000.0|Commercial associate|Secondary / secon...|             Married|       With parents|         1|              0|         0|         0|        Drivers|            2.0|46.0| 5.0|\n",
      "|5025927|           -33|     0|         33|        No|          F|           N|              Y|           0|        157500.0|             Working|Secondary / secon...|             Married|  House / apartment|         1|              0|         0|         0|    Sales staff|            2.0|50.0| 3.0|\n",
      "|5028338|             0|     C|          0|        No|          F|           Y|              N|           1|        225000.0|             Working|    Higher education|Single / not married|       With parents|         1|              0|         0|         0|       Laborers|            2.0|38.0|15.0|\n",
      "|5028437|             0|     C|          0|        No|          M|           Y|              Y|           0|        315000.0|             Working|    Higher education|             Married|  House / apartment|         1|              0|         0|         0|       Managers|            2.0|43.0| 9.0|\n",
      "|5029440|             0|     X|          0|        No|          F|           Y|              Y|           0|        225000.0|             Working|    Higher education|             Married|  House / apartment|         1|              0|         1|         0|     Core staff|            2.0|48.0| 9.0|\n",
      "+-------+--------------+------+-----------+----------+-----------+------------+---------------+------------+----------------+--------------------+--------------------+--------------------+-------------------+----------+---------------+----------+----------+---------------+---------------+----+----+\n",
      "only showing top 20 rows\n",
      "\n"
     ]
    }
   ],
   "source": [
    "df.show()"
   ]
  },
  {
   "cell_type": "code",
   "execution_count": 30,
   "metadata": {},
   "outputs": [],
   "source": [
    "from pyspark.sql.functions import when\n",
    "df = df.withColumn(\"DEL_STATUS\",when(df[\"DEL_STATUS\"] == 'Yes',1).otherwise(0))"
   ]
  },
  {
   "cell_type": "code",
   "execution_count": 31,
   "metadata": {},
   "outputs": [
    {
     "name": "stdout",
     "output_type": "stream",
     "text": [
      "+-------+--------------+------+-----------+----------+-----------+------------+---------------+------------+----------------+--------------------+--------------------+------------------+-----------------+----------+---------------+----------+----------+---------------+---------------+----+---+\n",
      "|     ID|MONTHS_BALANCE|STATUS|RELN_MONTHS|DEL_STATUS|CODE_GENDER|FLAG_OWN_CAR|FLAG_OWN_REALTY|CNT_CHILDREN|AMT_INCOME_TOTAL|    NAME_INCOME_TYPE| NAME_EDUCATION_TYPE|NAME_FAMILY_STATUS|NAME_HOUSING_TYPE|FLAG_MOBIL|FLAG_WORK_PHONE|FLAG_PHONE|FLAG_EMAIL|OCCUPATION_TYPE|CNT_FAM_MEMBERS| Age|Exp|\n",
      "+-------+--------------+------+-----------+----------+-----------+------------+---------------+------------+----------------+--------------------+--------------------+------------------+-----------------+----------+---------------+----------+----------+---------------+---------------+----+---+\n",
      "|5008867|           -22|     X|         22|         0|          F|           Y|              Y|           2|        135000.0|             Working|Secondary / secon...|           Married|House / apartment|         1|              0|         0|         0|       Laborers|            4.0|43.0|9.0|\n",
      "|5010632|           -22|     C|         22|         0|          F|           Y|              Y|           0|        180000.0|             Working|Secondary / secon...|    Civil marriage|House / apartment|         1|              0|         0|         0|    Sales staff|            2.0|34.0|2.0|\n",
      "|5010779|             0|     X|          0|         0|          F|           Y|              Y|           1|        157500.0|Commercial associate|    Higher education|           Married|House / apartment|         1|              0|         0|         1|     Core staff|            3.0|40.0|6.0|\n",
      "|5021295|           -16|     C|         16|         0|          F|           Y|              Y|           1|        180000.0|Commercial associate|    Higher education|           Married|House / apartment|         1|              0|         0|         1|     Core staff|            3.0|33.0|1.0|\n",
      "|5021488|             0|     C|          0|         0|          M|           Y|              Y|           0|        135000.0|Commercial associate|Secondary / secon...|    Civil marriage|     With parents|         1|              0|         0|         0|       Laborers|            2.0|29.0|4.0|\n",
      "+-------+--------------+------+-----------+----------+-----------+------------+---------------+------------+----------------+--------------------+--------------------+------------------+-----------------+----------+---------------+----------+----------+---------------+---------------+----+---+\n",
      "only showing top 5 rows\n",
      "\n"
     ]
    }
   ],
   "source": [
    "df.show(5)"
   ]
  },
  {
   "cell_type": "code",
   "execution_count": 32,
   "metadata": {},
   "outputs": [],
   "source": [
    "def iv_woe(data, target, bins=10, show_woe=False):\n",
    "    newDF,woeDF = pd.DataFrame(), pd.DataFrame() #Extract Column Names\n",
    "    cols = data.columns\n",
    "    for ivars in cols[~cols.isin([target])]:\n",
    "        if (data[ivars].dtype.kind in 'bifc') and (len(np.unique(data[ivars]))>10):\n",
    "            binned_x = pd.qcut(data[ivars], bins, duplicates='drop')\n",
    "            d0 = pd.DataFrame({'x': binned_x, 'y': data[target]})\n",
    "        else:\n",
    "            d0 = pd.DataFrame({'x': data[ivars], 'y': data[target]})\n",
    "        d = d0.groupby(\"x\", as_index=False).agg({\"y\": [\"count\", \"sum\"]})\n",
    "        d.columns = ['Cutoff', 'N', 'Events']\n",
    "        d['% of Events'] = np.maximum(d['Events'], 0.5) / d['Events'].sum() \n",
    "        d['Non-Events'] = d['N'] - d['Events']\n",
    "        d['% of Non-Events'] = np.maximum(d['Non-Events'], 0.5) / d['Non-Events'].sum() \n",
    "        d['WoE'] = np.log(d['% of Events']/d['% of Non-Events'])\n",
    "        d['IV'] = d['WoE'] * (d['% of Events'] - d['% of Non-Events'])\n",
    "        d.insert(loc=0, column='Variable', value=ivars)\n",
    "        print(\"Information value of \" + ivars + \" is \" + str(round(d['IV'].sum(),6))) \n",
    "        temp =pd.DataFrame({\"Variable\" : [ivars], \"IV\" : [d['IV'].sum()]}, columns = [\"Variable\", \"IV\"]) \n",
    "        newDF=pd.concat([newDF,temp], axis=0) \n",
    "        woeDF=pd.concat([woeDF,d], axis=0)\n",
    "        #Show WOE Table\n",
    "        if show_woe == True: \n",
    "            print(d)\n",
    "    return newDF, woeDF"
   ]
  },
  {
   "cell_type": "code",
   "execution_count": 33,
   "metadata": {},
   "outputs": [
    {
     "name": "stdout",
     "output_type": "stream",
     "text": [
      "Information value of ID is 0.146197\n",
      "  Variable                    Cutoff     N  Events  % of Events  Non-Events  \\\n",
      "0       ID  (5008805.999, 5023500.2]  2517      10     0.094340        2507   \n",
      "1       ID    (5023500.2, 5035857.2]  2516       7     0.066038        2509   \n",
      "2       ID    (5035857.2, 5048426.3]  2516       7     0.066038        2509   \n",
      "3       ID    (5048426.3, 5062242.4]  2516      11     0.103774        2505   \n",
      "4       ID    (5062242.4, 5079004.0]  2516       6     0.056604        2510   \n",
      "5       ID    (5079004.0, 5092077.6]  2516       6     0.056604        2510   \n",
      "6       ID    (5092077.6, 5111191.7]  2516      15     0.141509        2501   \n",
      "7       ID    (5111191.7, 5117822.8]  2516      19     0.179245        2497   \n",
      "8       ID    (5117822.8, 5139548.9]  2516      13     0.122642        2503   \n",
      "9       ID    (5139548.9, 5150487.0]  2517      12     0.113208        2505   \n",
      "\n",
      "   % of Non-Events       WoE        IV  \n",
      "0         0.100056 -0.058828  0.000336  \n",
      "1         0.100136 -0.416300  0.014195  \n",
      "2         0.100136 -0.416300  0.014195  \n",
      "3         0.099976  0.037281  0.000142  \n",
      "4         0.100176 -0.570849  0.024873  \n",
      "5         0.100176 -0.570849  0.024873  \n",
      "6         0.099816  0.349034  0.014552  \n",
      "7         0.099657  0.587023  0.046720  \n",
      "8         0.099896  0.205134  0.004666  \n",
      "9         0.099976  0.124292  0.001645  \n",
      "Information value of MONTHS_BALANCE is 0.218888\n",
      "         Variable            Cutoff      N  Events  % of Events  Non-Events  \\\n",
      "0  MONTHS_BALANCE  (-59.001, -23.0]   2557       5     0.047170        2552   \n",
      "1  MONTHS_BALANCE    (-23.0, -11.0]   2552       5     0.047170        2547   \n",
      "2  MONTHS_BALANCE     (-11.0, -2.0]   2536       3     0.028302        2533   \n",
      "3  MONTHS_BALANCE       (-2.0, 0.0]  17517      93     0.877358       17424   \n",
      "\n",
      "   % of Non-Events       WoE        IV  \n",
      "0         0.101852 -0.769765  0.042092  \n",
      "1         0.101652 -0.767804  0.041832  \n",
      "2         0.101094 -1.273118  0.092672  \n",
      "3         0.695402  0.232425  0.042291  \n",
      "Information value of STATUS is 14.18259\n",
      "  Variable Cutoff      N  Events  % of Events  Non-Events  % of Non-Events  \\\n",
      "0   STATUS      0   5835       0     0.004717        5835         0.232878   \n",
      "1   STATUS      1    203       0     0.004717         203         0.008102   \n",
      "2   STATUS      2     19      19     0.179245           0         0.000020   \n",
      "3   STATUS      3      6       6     0.056604           0         0.000020   \n",
      "4   STATUS      4      5       5     0.047170           0         0.000020   \n",
      "5   STATUS      5     76      76     0.716981           0         0.000020   \n",
      "6   STATUS      C  12319       0     0.004717       12319         0.491659   \n",
      "7   STATUS      X   6699       0     0.004717        6699         0.267361   \n",
      "\n",
      "         WoE        IV  \n",
      "0  -3.899347  0.889680  \n",
      "1  -0.540924  0.001831  \n",
      "2   9.103016  1.631491  \n",
      "3   7.950336  0.449860  \n",
      "4   7.768015  0.366261  \n",
      "5  10.489310  7.520428  \n",
      "6  -4.646616  2.262631  \n",
      "7  -4.037431  1.060408  \n",
      "Information value of RELN_MONTHS is 0.197588\n",
      "      Variable         Cutoff      N  Events  % of Events  Non-Events  \\\n",
      "0  RELN_MONTHS  (-0.001, 2.0]  17816      93     0.877358       17723   \n",
      "1  RELN_MONTHS    (2.0, 11.0]   2517       3     0.028302        2514   \n",
      "2  RELN_MONTHS   (11.0, 23.0]   2416       5     0.047170        2411   \n",
      "3  RELN_MONTHS   (23.0, 59.0]   2413       5     0.047170        2408   \n",
      "\n",
      "   % of Non-Events       WoE        IV  \n",
      "0         0.707336  0.215410  0.036625  \n",
      "1         0.100335 -1.265589  0.091165  \n",
      "2         0.096224 -0.712929  0.034973  \n",
      "3         0.096105 -0.711684  0.034826  \n",
      "Information value of CODE_GENDER is 0.009084\n",
      "      Variable Cutoff      N  Events  % of Events  Non-Events  \\\n",
      "0  CODE_GENDER      F  15650      61     0.575472       15589   \n",
      "1  CODE_GENDER      M   9512      45     0.424528        9467   \n",
      "\n",
      "   % of Non-Events       WoE        IV  \n",
      "0         0.622166 -0.078017  0.003643  \n",
      "1         0.377834  0.116525  0.005441  \n",
      "Information value of FLAG_OWN_CAR is 0.026561\n",
      "       Variable Cutoff      N  Events  % of Events  Non-Events  \\\n",
      "0  FLAG_OWN_CAR      N  14638      70     0.660377       14568   \n",
      "1  FLAG_OWN_CAR      Y  10524      36     0.339623       10488   \n",
      "\n",
      "   % of Non-Events       WoE        IV  \n",
      "0         0.581418  0.127342  0.010055  \n",
      "1         0.418582 -0.209039  0.016506  \n",
      "Information value of FLAG_OWN_REALTY is 0.002671\n",
      "          Variable Cutoff      N  Events  % of Events  Non-Events  \\\n",
      "0  FLAG_OWN_REALTY      N   8681      34     0.320755        8647   \n",
      "1  FLAG_OWN_REALTY      Y  16481      72     0.679245       16409   \n",
      "\n",
      "   % of Non-Events       WoE        IV  \n",
      "0         0.345107 -0.073178  0.001782  \n",
      "1         0.654893  0.036510  0.000889  \n",
      "Information value of CNT_CHILDREN is 0.156756\n",
      "       Variable  Cutoff      N  Events  % of Events  Non-Events  \\\n",
      "0  CNT_CHILDREN       0  15931      77     0.726415       15854   \n",
      "1  CNT_CHILDREN       1   6121      24     0.226415        6097   \n",
      "2  CNT_CHILDREN       2   2717       4     0.037736        2713   \n",
      "3  CNT_CHILDREN       3    312       1     0.009434         311   \n",
      "4  CNT_CHILDREN       4     57       0     0.004717          57   \n",
      "5  CNT_CHILDREN       5     18       0     0.004717          18   \n",
      "6  CNT_CHILDREN       7      2       0     0.004717           2   \n",
      "7  CNT_CHILDREN      14      3       0     0.004717           3   \n",
      "8  CNT_CHILDREN      19      1       0     0.004717           1   \n",
      "\n",
      "   % of Non-Events       WoE        IV  \n",
      "0         0.632743  0.138058  0.012932  \n",
      "1         0.243335 -0.072069  0.001219  \n",
      "2         0.108277 -1.054086  0.074357  \n",
      "3         0.012412 -0.274363  0.000817  \n",
      "4         0.002275  0.729231  0.001781  \n",
      "5         0.000718  1.881911  0.007525  \n",
      "6         0.000080  4.079135  0.018916  \n",
      "7         0.000120  3.673670  0.016889  \n",
      "8         0.000040  4.772282  0.022320  \n",
      "Information value of AMT_INCOME_TOTAL is 0.262136\n",
      "           Variable                 Cutoff     N  Events  % of Events  \\\n",
      "0  AMT_INCOME_TOTAL   (26999.999, 99000.0]  2707      18     0.169811   \n",
      "1  AMT_INCOME_TOTAL    (99000.0, 117000.0]  2435      12     0.113208   \n",
      "2  AMT_INCOME_TOTAL   (117000.0, 135000.0]  3867      17     0.160377   \n",
      "3  AMT_INCOME_TOTAL   (135000.0, 157500.0]  2812       5     0.047170   \n",
      "4  AMT_INCOME_TOTAL   (157500.0, 180000.0]  2862       7     0.066038   \n",
      "5  AMT_INCOME_TOTAL   (180000.0, 202500.0]  1885      13     0.122642   \n",
      "6  AMT_INCOME_TOTAL   (202500.0, 225000.0]  2541       6     0.056604   \n",
      "7  AMT_INCOME_TOTAL   (225000.0, 252000.0]  1024       0     0.004717   \n",
      "8  AMT_INCOME_TOTAL   (252000.0, 315000.0]  2954      15     0.141509   \n",
      "9  AMT_INCOME_TOTAL  (315000.0, 1575000.0]  2075      13     0.122642   \n",
      "\n",
      "   Non-Events  % of Non-Events       WoE        IV  \n",
      "0        2689         0.107320  0.458877  0.028676  \n",
      "1        2423         0.096703  0.157574  0.002601  \n",
      "2        3850         0.153656  0.042814  0.000288  \n",
      "3        2807         0.112029 -0.865004  0.056104  \n",
      "4        2855         0.113945 -0.545487  0.026133  \n",
      "5        1872         0.074713  0.495616  0.023754  \n",
      "6        2535         0.101173 -0.580760  0.025884  \n",
      "7        1024         0.040868 -2.159189  0.078058  \n",
      "8        2939         0.117297  0.187655  0.004544  \n",
      "9        2062         0.082296  0.398947  0.016096  \n",
      "Information value of NAME_INCOME_TYPE is 1.392941\n",
      "           Variable                Cutoff      N  Events  % of Events  \\\n",
      "0  NAME_INCOME_TYPE  Commercial associate   7058      30     0.283019   \n",
      "1  NAME_INCOME_TYPE             Pensioner     31      21     0.198113   \n",
      "2  NAME_INCOME_TYPE         State servant   2439       2     0.018868   \n",
      "3  NAME_INCOME_TYPE               Student     10       0     0.004717   \n",
      "4  NAME_INCOME_TYPE               Working  15624      53     0.500000   \n",
      "\n",
      "   Non-Events  % of Non-Events       WoE        IV  \n",
      "0        7028         0.280492  0.008969  0.000023  \n",
      "1          10         0.000399  6.207367  1.227284  \n",
      "2        2437         0.097262 -1.639946  0.128562  \n",
      "3          10         0.000399  2.469697  0.010664  \n",
      "4       15571         0.621448 -0.217444  0.026408  \n",
      "Information value of NAME_EDUCATION_TYPE is 0.026855\n",
      "              Variable                         Cutoff      N  Events  \\\n",
      "0  NAME_EDUCATION_TYPE                Academic degree     14       0   \n",
      "1  NAME_EDUCATION_TYPE               Higher education   7143      33   \n",
      "2  NAME_EDUCATION_TYPE              Incomplete higher    995       5   \n",
      "3  NAME_EDUCATION_TYPE                Lower secondary    187       2   \n",
      "4  NAME_EDUCATION_TYPE  Secondary / secondary special  16823      66   \n",
      "\n",
      "   % of Events  Non-Events  % of Non-Events       WoE        IV  \n",
      "0     0.004717          14         0.000559  2.133225  0.008870  \n",
      "1     0.311321        7110         0.283764  0.092680  0.002554  \n",
      "2     0.047170         990         0.039511  0.177162  0.001357  \n",
      "3     0.018868         185         0.007383  0.938221  0.010775  \n",
      "4     0.622642       16757         0.668782 -0.071487  0.003298  \n",
      "Information value of NAME_FAMILY_STATUS is 0.117441\n",
      "             Variable                Cutoff      N  Events  % of Events  \\\n",
      "0  NAME_FAMILY_STATUS        Civil marriage   2134       3     0.028302   \n",
      "1  NAME_FAMILY_STATUS               Married  17529      70     0.660377   \n",
      "2  NAME_FAMILY_STATUS             Separated   1470       6     0.056604   \n",
      "3  NAME_FAMILY_STATUS  Single / not married   3446      21     0.198113   \n",
      "4  NAME_FAMILY_STATUS                 Widow    583       6     0.056604   \n",
      "\n",
      "   Non-Events  % of Non-Events       WoE        IV  \n",
      "0        2131         0.085049 -1.100305  0.062440  \n",
      "1       17459         0.696799 -0.053686  0.001955  \n",
      "2        1464         0.058429 -0.031739  0.000058  \n",
      "3        3425         0.136694  0.371095  0.022792  \n",
      "4         577         0.023028  0.899347  0.030196  \n",
      "Information value of NAME_HOUSING_TYPE is 0.012411\n",
      "            Variable               Cutoff      N  Events  % of Events  \\\n",
      "0  NAME_HOUSING_TYPE      Co-op apartment    152       1     0.009434   \n",
      "1  NAME_HOUSING_TYPE    House / apartment  22129      95     0.896226   \n",
      "2  NAME_HOUSING_TYPE  Municipal apartment    812       4     0.037736   \n",
      "3  NAME_HOUSING_TYPE     Office apartment    199       0     0.004717   \n",
      "4  NAME_HOUSING_TYPE     Rented apartment    439       2     0.018868   \n",
      "5  NAME_HOUSING_TYPE         With parents   1431       4     0.037736   \n",
      "\n",
      "   Non-Events  % of Non-Events       WoE        IV  \n",
      "0         151         0.006027  0.448150  0.001527  \n",
      "1       22034         0.879390  0.018964  0.000319  \n",
      "2         808         0.032248  0.157162  0.000863  \n",
      "3         199         0.007942 -0.521023  0.001680  \n",
      "4         437         0.017441  0.078643  0.000112  \n",
      "5        1427         0.056952 -0.411606  0.007910  \n",
      "Information value of FLAG_MOBIL is 0.0\n",
      "     Variable  Cutoff      N  Events  % of Events  Non-Events  \\\n",
      "0  FLAG_MOBIL       1  25162     106          1.0       25056   \n",
      "\n",
      "   % of Non-Events  WoE   IV  \n",
      "0              1.0  0.0  0.0  \n"
     ]
    },
    {
     "name": "stdout",
     "output_type": "stream",
     "text": [
      "Information value of FLAG_WORK_PHONE is 0.041336\n",
      "          Variable  Cutoff      N  Events  % of Events  Non-Events  \\\n",
      "0  FLAG_WORK_PHONE       0  18276      86     0.811321       18190   \n",
      "1  FLAG_WORK_PHONE       1   6886      20     0.188679        6866   \n",
      "\n",
      "   % of Non-Events       WoE        IV  \n",
      "0         0.725974  0.111150  0.009486  \n",
      "1         0.274026 -0.373175  0.031849  \n",
      "Information value of FLAG_PHONE is 0.006558\n",
      "     Variable  Cutoff      N  Events  % of Events  Non-Events  \\\n",
      "0  FLAG_PHONE       0  17793      71     0.669811       17722   \n",
      "1  FLAG_PHONE       1   7369      35     0.330189        7334   \n",
      "\n",
      "   % of Non-Events       WoE        IV  \n",
      "0         0.707296 -0.054453  0.002041  \n",
      "1         0.292704  0.120501  0.004517  \n",
      "Information value of FLAG_EMAIL is 0.032116\n",
      "     Variable  Cutoff      N  Events  % of Events  Non-Events  \\\n",
      "0  FLAG_EMAIL       0  22627      89     0.839623       22538   \n",
      "1  FLAG_EMAIL       1   2535      17     0.160377        2518   \n",
      "\n",
      "   % of Non-Events       WoE        IV  \n",
      "0         0.899505 -0.068892  0.004125  \n",
      "1         0.100495  0.467423  0.027990  \n",
      "Information value of OCCUPATION_TYPE is 2.891686\n",
      "           Variable                 Cutoff     N  Events  % of Events  \\\n",
      "0   OCCUPATION_TYPE            Accountants  1241       0     0.004717   \n",
      "1   OCCUPATION_TYPE         Cleaning staff   551       1     0.009434   \n",
      "2   OCCUPATION_TYPE          Cooking staff   655       3     0.028302   \n",
      "3   OCCUPATION_TYPE             Core staff  3591      14     0.132075   \n",
      "4   OCCUPATION_TYPE                Drivers  2138       6     0.056604   \n",
      "5   OCCUPATION_TYPE               HR staff    85       0     0.004717   \n",
      "6   OCCUPATION_TYPE  High skill tech staff  1383       5     0.047170   \n",
      "7   OCCUPATION_TYPE               IT staff    60       3     0.028302   \n",
      "8   OCCUPATION_TYPE               Laborers  6211      14     0.132075   \n",
      "9   OCCUPATION_TYPE     Low-skill Laborers   175       2     0.018868   \n",
      "10  OCCUPATION_TYPE               Managers  3012       8     0.075472   \n",
      "11  OCCUPATION_TYPE         Medicine staff  1207       3     0.028302   \n",
      "12  OCCUPATION_TYPE                 Others    28      28     0.264151   \n",
      "13  OCCUPATION_TYPE  Private service staff   344       1     0.009434   \n",
      "14  OCCUPATION_TYPE          Realty agents    79       0     0.004717   \n",
      "15  OCCUPATION_TYPE            Sales staff  3485       9     0.084906   \n",
      "16  OCCUPATION_TYPE            Secretaries   151       2     0.018868   \n",
      "17  OCCUPATION_TYPE         Security staff   592       6     0.056604   \n",
      "18  OCCUPATION_TYPE   Waiters/barmen staff   174       1     0.009434   \n",
      "\n",
      "    Non-Events  % of Non-Events       WoE        IV  \n",
      "0         1241         0.049529 -2.351390  0.105371  \n",
      "1          550         0.021951 -0.844489  0.010570  \n",
      "2          652         0.026022  0.083997  0.000192  \n",
      "3         3577         0.142760 -0.077793  0.000831  \n",
      "4         2132         0.085089 -0.407627  0.011612  \n",
      "5           85         0.003392  0.329631  0.000437  \n",
      "6         1378         0.054997 -0.153521  0.001202  \n",
      "7           57         0.002275  2.520991  0.065614  \n",
      "8         6197         0.247326 -0.627334  0.072301  \n",
      "9          173         0.006905  1.005285  0.012027  \n",
      "10        3004         0.119891 -0.462829  0.020559  \n",
      "11        1204         0.048052 -0.529363  0.010455  \n",
      "12           0         0.000020  9.490781  2.506809  \n",
      "13         343         0.013689 -0.372301  0.001584  \n",
      "14          79         0.003153  0.402834  0.000630  \n",
      "15        3476         0.138729 -0.490983  0.026426  \n",
      "16         149         0.005947  1.154630  0.014919  \n",
      "17         586         0.023388  0.883869  0.029359  \n",
      "18         173         0.006905  0.312138  0.000790  \n",
      "Information value of CNT_FAM_MEMBERS is 0.156483\n",
      "          Variable  Cutoff      N  Events  % of Events  Non-Events  \\\n",
      "0  CNT_FAM_MEMBERS     1.0   4270      25     0.235849        4245   \n",
      "1  CNT_FAM_MEMBERS     2.0  12713      55     0.518868       12658   \n",
      "2  CNT_FAM_MEMBERS     3.0   5219      21     0.198113        5198   \n",
      "3  CNT_FAM_MEMBERS     4.0   2578       4     0.037736        2574   \n",
      "4  CNT_FAM_MEMBERS     5.0    307       1     0.009434         306   \n",
      "5  CNT_FAM_MEMBERS     6.0     51       0     0.004717          51   \n",
      "6  CNT_FAM_MEMBERS     7.0     18       0     0.004717          18   \n",
      "7  CNT_FAM_MEMBERS     9.0      2       0     0.004717           2   \n",
      "8  CNT_FAM_MEMBERS    15.0      3       0     0.004717           3   \n",
      "9  CNT_FAM_MEMBERS    20.0      1       0     0.004717           1   \n",
      "\n",
      "   % of Non-Events       WoE        IV  \n",
      "0         0.169420  0.330808  0.021975  \n",
      "1         0.505188  0.026718  0.000365  \n",
      "2         0.207455 -0.046077  0.000430  \n",
      "3         0.102730 -1.001493  0.065091  \n",
      "4         0.012213 -0.258156  0.000717  \n",
      "5         0.002035  0.840457  0.002254  \n",
      "6         0.000718  1.881911  0.007525  \n",
      "7         0.000080  4.079135  0.018916  \n",
      "8         0.000120  3.673670  0.016889  \n",
      "9         0.000040  4.772282  0.022320  \n",
      "Information value of Age is 0.227248\n",
      "  Variable          Cutoff     N  Events  % of Events  Non-Events  \\\n",
      "0      Age  (20.999, 28.0]  2762      14     0.132075        2748   \n",
      "1      Age    (28.0, 31.0]  2481       6     0.056604        2475   \n",
      "2      Age    (31.0, 34.0]  2564       4     0.037736        2560   \n",
      "3      Age    (34.0, 37.0]  2577       9     0.084906        2568   \n",
      "4      Age    (37.0, 40.0]  2763      10     0.094340        2753   \n",
      "5      Age    (40.0, 43.0]  2570       8     0.075472        2562   \n",
      "6      Age    (43.0, 46.0]  2219       7     0.066038        2212   \n",
      "7      Age    (46.0, 50.0]  2713      12     0.113208        2701   \n",
      "8      Age    (50.0, 54.0]  2351      15     0.141509        2336   \n",
      "9      Age    (54.0, 67.0]  2162      21     0.198113        2141   \n",
      "\n",
      "   % of Non-Events       WoE        IV  \n",
      "0         0.109674  0.185858  0.004163  \n",
      "1         0.098779 -0.556807  0.023483  \n",
      "2         0.102171 -0.996039  0.064180  \n",
      "3         0.102490 -0.188229  0.003310  \n",
      "4         0.109874 -0.152432  0.002368  \n",
      "5         0.102251 -0.303672  0.008132  \n",
      "6         0.088282 -0.290313  0.006458  \n",
      "7         0.107799  0.048959  0.000265  \n",
      "8         0.093231  0.417284  0.020146  \n",
      "9         0.085449  0.840924  0.094742  \n",
      "Information value of Exp is 0.382942\n",
      "  Variable         Cutoff     N  Events  % of Events  Non-Events  \\\n",
      "0      Exp  (-0.001, 1.0]  3358      14     0.132075        3344   \n",
      "1      Exp     (1.0, 2.0]  2455      19     0.179245        2436   \n",
      "2      Exp     (2.0, 3.0]  2523      12     0.113208        2511   \n",
      "3      Exp     (3.0, 4.0]  2442       5     0.047170        2437   \n",
      "4      Exp     (4.0, 5.0]  2048       3     0.028302        2045   \n",
      "5      Exp     (5.0, 7.0]  3268      10     0.094340        3258   \n",
      "6      Exp     (7.0, 9.0]  2726      28     0.264151        2698   \n",
      "7      Exp    (9.0, 11.0]  1775       4     0.037736        1771   \n",
      "8      Exp   (11.0, 15.0]  2098       3     0.028302        2095   \n",
      "9      Exp   (15.0, 43.0]  2469       8     0.075472        2461   \n",
      "\n",
      "   % of Non-Events       WoE        IV  \n",
      "0         0.133461 -0.010436  0.000014  \n",
      "1         0.097222  0.611756  0.050178  \n",
      "2         0.100216  0.121900  0.001584  \n",
      "3         0.097262 -0.723656  0.036250  \n",
      "4         0.081617 -1.059111  0.056467  \n",
      "5         0.130029 -0.320854  0.011451  \n",
      "6         0.107679  0.897368  0.140413  \n",
      "7         0.070682 -0.627576  0.020676  \n",
      "8         0.083613 -1.083267  0.059916  \n",
      "9         0.098220 -0.263452  0.005993  \n",
      "              Variable         IV\n",
      "0                   ID   0.146197\n",
      "0       MONTHS_BALANCE   0.218888\n",
      "0               STATUS  14.182590\n",
      "0          RELN_MONTHS   0.197588\n",
      "0          CODE_GENDER   0.009084\n",
      "0         FLAG_OWN_CAR   0.026561\n",
      "0      FLAG_OWN_REALTY   0.002671\n",
      "0         CNT_CHILDREN   0.156756\n",
      "0     AMT_INCOME_TOTAL   0.262136\n",
      "0     NAME_INCOME_TYPE   1.392941\n",
      "0  NAME_EDUCATION_TYPE   0.026855\n",
      "0   NAME_FAMILY_STATUS   0.117441\n",
      "0    NAME_HOUSING_TYPE   0.012411\n",
      "0           FLAG_MOBIL   0.000000\n",
      "0      FLAG_WORK_PHONE   0.041336\n",
      "0           FLAG_PHONE   0.006558\n",
      "0           FLAG_EMAIL   0.032116\n",
      "0      OCCUPATION_TYPE   2.891686\n",
      "0      CNT_FAM_MEMBERS   0.156483\n",
      "0                  Age   0.227248\n",
      "0                  Exp   0.382942\n",
      "   Variable                    Cutoff     N  Events  % of Events  Non-Events  \\\n",
      "0        ID  (5008805.999, 5023500.2]  2517      10     0.094340        2507   \n",
      "1        ID    (5023500.2, 5035857.2]  2516       7     0.066038        2509   \n",
      "2        ID    (5035857.2, 5048426.3]  2516       7     0.066038        2509   \n",
      "3        ID    (5048426.3, 5062242.4]  2516      11     0.103774        2505   \n",
      "4        ID    (5062242.4, 5079004.0]  2516       6     0.056604        2510   \n",
      "..      ...                       ...   ...     ...          ...         ...   \n",
      "5       Exp                (5.0, 7.0]  3268      10     0.094340        3258   \n",
      "6       Exp                (7.0, 9.0]  2726      28     0.264151        2698   \n",
      "7       Exp               (9.0, 11.0]  1775       4     0.037736        1771   \n",
      "8       Exp              (11.0, 15.0]  2098       3     0.028302        2095   \n",
      "9       Exp              (15.0, 43.0]  2469       8     0.075472        2461   \n",
      "\n",
      "    % of Non-Events       WoE        IV  \n",
      "0          0.100056 -0.058828  0.000336  \n",
      "1          0.100136 -0.416300  0.014195  \n",
      "2          0.100136 -0.416300  0.014195  \n",
      "3          0.099976  0.037281  0.000142  \n",
      "4          0.100176 -0.570849  0.024873  \n",
      "..              ...       ...       ...  \n",
      "5          0.130029 -0.320854  0.011451  \n",
      "6          0.107679  0.897368  0.140413  \n",
      "7          0.070682 -0.627576  0.020676  \n",
      "8          0.083613 -1.083267  0.059916  \n",
      "9          0.098220 -0.263452  0.005993  \n",
      "\n",
      "[128 rows x 9 columns]\n"
     ]
    }
   ],
   "source": [
    "iv, woe = iv_woe(data = df.toPandas(), target = 'DEL_STATUS', bins=10, show_woe = True)\n",
    "print(iv)\n",
    "print(woe)"
   ]
  },
  {
   "cell_type": "code",
   "execution_count": 34,
   "metadata": {},
   "outputs": [],
   "source": [
    "from pyspark.ml.feature import OneHotEncoder, StringIndexer, VectorAssembler \n",
    "categoricalColumns = [ 'CNT_CHILDREN','FLAG_OWN_CAR','CODE_GENDER','NAME_INCOME_TYPE','NAME_EDUCATION_TYPE','NAME_FAMILY_STATUS','NAME_HOUSING_TYPE','FLAG_WORK_PHONE','FLAG_PHONE','FLAG_EMAIL','OCCUPATION_TYPE']\n",
    "stages = []\n",
    "for categoricalCol in categoricalColumns:\n",
    "    stringIndexer = StringIndexer(inputCol = categoricalCol, outputCol = categoricalCol + 'Index')\n",
    "    encoder = OneHotEncoder(inputCols=[stringIndexer.getOutputCol()], outputCols=[categoricalCol + \"classVec\"])\n",
    "    stages += [stringIndexer, encoder]\n",
    "label_stringIdx = StringIndexer(inputCol = 'DEL_STATUS', outputCol = 'label') \n",
    "stages += [label_stringIdx]\n",
    "numericCols = ['CNT_FAM_MEMBERS','Age','Exp','RELN_MONTHS','AMT_INCOME_TOTAL'] \n",
    "assemblerInputs = [c + \"classVec\" for c in categoricalColumns] + numericCols \n",
    "assembler = VectorAssembler(inputCols=assemblerInputs, outputCol=\"features\") \n",
    "stages += [assembler]"
   ]
  },
  {
   "cell_type": "code",
   "execution_count": 35,
   "metadata": {},
   "outputs": [],
   "source": [
    "cols = df.select(df.columns)"
   ]
  },
  {
   "cell_type": "code",
   "execution_count": 36,
   "metadata": {},
   "outputs": [
    {
     "name": "stdout",
     "output_type": "stream",
     "text": [
      "root\n",
      " |-- label: double (nullable = false)\n",
      " |-- features: vector (nullable = true)\n",
      "\n"
     ]
    }
   ],
   "source": [
    "from pyspark.ml import Pipeline\n",
    "pipeline = Pipeline(stages = stages)\n",
    "pipelineModel = pipeline.fit(df)\n",
    "df1 = pipelineModel.transform(df)\n",
    "selectedCols = ['label', 'features']\n",
    "df1 = df1.select(selectedCols)\n",
    "df1.printSchema()"
   ]
  },
  {
   "cell_type": "code",
   "execution_count": 37,
   "metadata": {},
   "outputs": [
    {
     "name": "stdout",
     "output_type": "stream",
     "text": [
      "Training Dataset Count: 17520\n",
      "Test Dataset Count: 7642\n"
     ]
    }
   ],
   "source": [
    "train, test = df1.randomSplit([0.7, 0.3], seed = 2018)\n",
    "print(\"Training Dataset Count: \" + str(train.count()))\n",
    "print(\"Test Dataset Count: \" + str(test.count()))"
   ]
  },
  {
   "cell_type": "code",
   "execution_count": 38,
   "metadata": {},
   "outputs": [],
   "source": [
    "from pyspark.ml.classification import LogisticRegression\n",
    "from pyspark.ml.evaluation import BinaryClassificationEvaluator\n",
    "from pyspark.ml.tuning import CrossValidator, ParamGridBuilder"
   ]
  },
  {
   "cell_type": "code",
   "execution_count": 39,
   "metadata": {},
   "outputs": [],
   "source": [
    "from pyspark.ml.classification import LogisticRegression\n",
    "lr = LogisticRegression(featuresCol = 'features', labelCol = 'label', maxIter=15) \n",
    "lrModel = lr.fit(train)"
   ]
  },
  {
   "cell_type": "code",
   "execution_count": 50,
   "metadata": {},
   "outputs": [],
   "source": [
    "result1 = lrModel.evaluate(train)"
   ]
  },
  {
   "cell_type": "code",
   "execution_count": 51,
   "metadata": {},
   "outputs": [
    {
     "data": {
      "text/plain": [
       "0.9970890410958904"
      ]
     },
     "execution_count": 51,
     "metadata": {},
     "output_type": "execute_result"
    }
   ],
   "source": [
    "result1.accuracy"
   ]
  },
  {
   "cell_type": "code",
   "execution_count": 53,
   "metadata": {},
   "outputs": [
    {
     "name": "stdout",
     "output_type": "stream",
     "text": [
      "+-----+--------------------+--------------------+--------------------+----------+\n",
      "|label|            features|       rawPrediction|         probability|prediction|\n",
      "+-----+--------------------+--------------------+--------------------+----------+\n",
      "|  0.0|(53,[0,8,9,10,14,...|[7.63804139268949...|[0.99951846086260...|       0.0|\n",
      "|  0.0|(53,[0,8,9,10,14,...|[6.86967965276514...|[0.99896226821477...|       0.0|\n",
      "|  0.0|(53,[0,8,9,10,14,...|[6.47874274917589...|[0.99846661460490...|       0.0|\n",
      "|  0.0|(53,[0,8,9,10,14,...|[7.62159293428858...|[0.99951047869622...|       0.0|\n",
      "|  0.0|(53,[0,8,9,10,14,...|[9.46771690960132...|[0.99992269826938...|       0.0|\n",
      "|  0.0|(53,[0,8,9,10,14,...|[5.46226095666832...|[0.99577398548885...|       0.0|\n",
      "|  0.0|(53,[0,8,9,10,14,...|[5.35102313871557...|[0.99527909717032...|       0.0|\n",
      "|  0.0|(53,[0,8,9,10,14,...|[5.19473585057512...|[0.99448490395343...|       0.0|\n",
      "|  0.0|(53,[0,8,9,10,14,...|[7.00355001008143...|[0.99909217438159...|       0.0|\n",
      "|  0.0|(53,[0,8,9,10,15,...|[6.76259744785145...|[0.99884511326180...|       0.0|\n",
      "|  0.0|(53,[0,8,9,10,15,...|[5.57846129291715...|[0.99623584751873...|       0.0|\n",
      "|  0.0|(53,[0,8,9,10,15,...|[5.70286639529688...|[0.99667470614133...|       0.0|\n",
      "|  0.0|(53,[0,8,9,10,15,...|[5.00654176396922...|[0.99335049904407...|       0.0|\n",
      "|  0.0|(53,[0,8,9,10,17,...|[9.28736228689213...|[0.99990742161524...|       0.0|\n",
      "|  0.0|(53,[0,8,9,11,14,...|[7.33972233028800...|[0.99935119045947...|       0.0|\n",
      "|  0.0|(53,[0,8,9,11,14,...|[6.80159844132496...|[0.99888923889647...|       0.0|\n",
      "|  0.0|(53,[0,8,9,11,14,...|[4.97643112669988...|[0.99314862611050...|       0.0|\n",
      "|  0.0|(53,[0,8,9,11,15,...|[5.26015822355117...|[0.99483236045040...|       0.0|\n",
      "|  0.0|(53,[0,8,9,11,15,...|[4.66889923649200...|[0.99070462287031...|       0.0|\n",
      "|  0.0|(53,[0,8,9,11,15,...|[5.39958742358789...|[0.99550187974606...|       0.0|\n",
      "+-----+--------------------+--------------------+--------------------+----------+\n",
      "only showing top 20 rows\n",
      "\n"
     ]
    }
   ],
   "source": [
    "result1.predictions.show()"
   ]
  },
  {
   "cell_type": "code",
   "execution_count": 40,
   "metadata": {},
   "outputs": [],
   "source": [
    "result = lrModel.evaluate(test)"
   ]
  },
  {
   "cell_type": "code",
   "execution_count": 41,
   "metadata": {},
   "outputs": [
    {
     "data": {
      "text/plain": [
       "0.9950274797173515"
      ]
     },
     "execution_count": 41,
     "metadata": {},
     "output_type": "execute_result"
    }
   ],
   "source": [
    "result.accuracy"
   ]
  },
  {
   "cell_type": "code",
   "execution_count": 42,
   "metadata": {},
   "outputs": [
    {
     "data": {
      "text/plain": [
       "0.6514054880142868"
      ]
     },
     "execution_count": 42,
     "metadata": {},
     "output_type": "execute_result"
    }
   ],
   "source": [
    "result.areaUnderROC"
   ]
  },
  {
   "cell_type": "code",
   "execution_count": 43,
   "metadata": {},
   "outputs": [
    {
     "data": {
      "text/plain": [
       "[1.0, 0.17391304347826086]"
      ]
     },
     "execution_count": 43,
     "metadata": {},
     "output_type": "execute_result"
    }
   ],
   "source": [
    "result.recallByLabel"
   ]
  },
  {
   "cell_type": "code",
   "execution_count": 44,
   "metadata": {},
   "outputs": [
    {
     "data": {
      "text/plain": [
       "[0.9950222687974849, 1.0]"
      ]
     },
     "execution_count": 44,
     "metadata": {},
     "output_type": "execute_result"
    }
   ],
   "source": [
    "result.precisionByLabel"
   ]
  },
  {
   "cell_type": "code",
   "execution_count": 45,
   "metadata": {},
   "outputs": [
    {
     "name": "stdout",
     "output_type": "stream",
     "text": [
      "+-----+--------------------+--------------------+--------------------+----------+\n",
      "|label|            features|       rawPrediction|         probability|prediction|\n",
      "+-----+--------------------+--------------------+--------------------+----------+\n",
      "|  0.0|(53,[0,8,9,10,14,...|[8.12604610131319...|[0.99970435223424...|       0.0|\n",
      "|  0.0|(53,[0,8,9,10,14,...|[5.43775798642968...|[0.99566961046559...|       0.0|\n",
      "|  0.0|(53,[0,8,9,10,14,...|[5.93215734361598...|[0.99735426556807...|       0.0|\n",
      "|  0.0|(53,[0,8,9,10,14,...|[3.97525423372784...|[0.98157145937795...|       0.0|\n",
      "|  0.0|(53,[0,8,9,10,15,...|[7.56734869596294...|[0.99948320569425...|       0.0|\n",
      "|  0.0|(53,[0,8,9,11,14,...|[6.71370604542598...|[0.99878731632852...|       0.0|\n",
      "|  0.0|(53,[0,8,9,11,14,...|[5.32251130658194...|[0.99514322148364...|       0.0|\n",
      "|  0.0|(53,[0,8,10,14,18...|[5.43988853566439...|[0.99567878692680...|       0.0|\n",
      "|  0.0|(53,[0,8,10,14,20...|[7.50039885180366...|[0.99944744167406...|       0.0|\n",
      "|  0.0|(53,[0,8,10,14,20...|[7.50039885180366...|[0.99944744167406...|       0.0|\n",
      "|  0.0|(53,[0,8,10,16,19...|[5.3354926816111,...|[0.99520556136472...|       0.0|\n",
      "|  0.0|(53,[0,9,10,14,18...|[6.08035042573067...|[0.99771784518634...|       0.0|\n",
      "|  0.0|(53,[0,9,10,14,18...|[9.71844137287313...|[0.99993983991917...|       0.0|\n",
      "|  0.0|(53,[0,9,10,14,18...|[10.8235763049588...|[0.99998007621330...|       0.0|\n",
      "|  0.0|(53,[0,9,11,14,18...|[6.55899300195222...|[0.99858469370828...|       0.0|\n",
      "|  0.0|(53,[0,11,14,18,2...|[5.49958604698202...|[0.99592818395134...|       0.0|\n",
      "|  0.0|(53,[0,11,14,20,2...|[8.15387061912643...|[0.99971246276633...|       0.0|\n",
      "|  0.0|(53,[1,8,9,10,14,...|[6.66888253989533...|[0.99873179346189...|       0.0|\n",
      "|  0.0|(53,[1,8,9,10,14,...|[8.63832134807914...|[0.99982284730549...|       0.0|\n",
      "|  0.0|(53,[1,8,9,10,14,...|[4.76183950490826...|[0.99152261313345...|       0.0|\n",
      "+-----+--------------------+--------------------+--------------------+----------+\n",
      "only showing top 20 rows\n",
      "\n"
     ]
    }
   ],
   "source": [
    "result.predictions.show()"
   ]
  },
  {
   "cell_type": "code",
   "execution_count": 46,
   "metadata": {},
   "outputs": [
    {
     "data": {
      "text/html": [
       "<div>\n",
       "<style scoped>\n",
       "    .dataframe tbody tr th:only-of-type {\n",
       "        vertical-align: middle;\n",
       "    }\n",
       "\n",
       "    .dataframe tbody tr th {\n",
       "        vertical-align: top;\n",
       "    }\n",
       "\n",
       "    .dataframe thead th {\n",
       "        text-align: right;\n",
       "    }\n",
       "</style>\n",
       "<table border=\"1\" class=\"dataframe\">\n",
       "  <thead>\n",
       "    <tr style=\"text-align: right;\">\n",
       "      <th></th>\n",
       "      <th>0</th>\n",
       "      <th>1</th>\n",
       "    </tr>\n",
       "  </thead>\n",
       "  <tbody>\n",
       "    <tr>\n",
       "      <th>0</th>\n",
       "      <td>0.999704</td>\n",
       "      <td>0.000296</td>\n",
       "    </tr>\n",
       "    <tr>\n",
       "      <th>1</th>\n",
       "      <td>0.995670</td>\n",
       "      <td>0.004330</td>\n",
       "    </tr>\n",
       "    <tr>\n",
       "      <th>2</th>\n",
       "      <td>0.997354</td>\n",
       "      <td>0.002646</td>\n",
       "    </tr>\n",
       "    <tr>\n",
       "      <th>3</th>\n",
       "      <td>0.981571</td>\n",
       "      <td>0.018429</td>\n",
       "    </tr>\n",
       "    <tr>\n",
       "      <th>4</th>\n",
       "      <td>0.999483</td>\n",
       "      <td>0.000517</td>\n",
       "    </tr>\n",
       "    <tr>\n",
       "      <th>...</th>\n",
       "      <td>...</td>\n",
       "      <td>...</td>\n",
       "    </tr>\n",
       "    <tr>\n",
       "      <th>7637</th>\n",
       "      <td>0.999897</td>\n",
       "      <td>0.000103</td>\n",
       "    </tr>\n",
       "    <tr>\n",
       "      <th>7638</th>\n",
       "      <td>0.998828</td>\n",
       "      <td>0.001172</td>\n",
       "    </tr>\n",
       "    <tr>\n",
       "      <th>7639</th>\n",
       "      <td>0.999993</td>\n",
       "      <td>0.000007</td>\n",
       "    </tr>\n",
       "    <tr>\n",
       "      <th>7640</th>\n",
       "      <td>0.998324</td>\n",
       "      <td>0.001676</td>\n",
       "    </tr>\n",
       "    <tr>\n",
       "      <th>7641</th>\n",
       "      <td>0.997745</td>\n",
       "      <td>0.002255</td>\n",
       "    </tr>\n",
       "  </tbody>\n",
       "</table>\n",
       "<p>7642 rows × 2 columns</p>\n",
       "</div>"
      ],
      "text/plain": [
       "             0         1\n",
       "0     0.999704  0.000296\n",
       "1     0.995670  0.004330\n",
       "2     0.997354  0.002646\n",
       "3     0.981571  0.018429\n",
       "4     0.999483  0.000517\n",
       "...        ...       ...\n",
       "7637  0.999897  0.000103\n",
       "7638  0.998828  0.001172\n",
       "7639  0.999993  0.000007\n",
       "7640  0.998324  0.001676\n",
       "7641  0.997745  0.002255\n",
       "\n",
       "[7642 rows x 2 columns]"
      ]
     },
     "execution_count": 46,
     "metadata": {},
     "output_type": "execute_result"
    }
   ],
   "source": [
    "rs=result.predictions\n",
    "rs1=rs.toPandas()\n",
    "rs2=rs1['probability'].apply(lambda x: pd.Series(x.toArray())) \n",
    "rs2"
   ]
  },
  {
   "cell_type": "code",
   "execution_count": 47,
   "metadata": {},
   "outputs": [
    {
     "data": {
      "text/plain": [
       "KstestResult(statistic=0.8229270597284977, pvalue=0.0)"
      ]
     },
     "execution_count": 47,
     "metadata": {},
     "output_type": "execute_result"
    }
   ],
   "source": [
    "from numpy.random import seed \n",
    "from numpy.random import poisson\n",
    "from scipy.stats import kstest\n",
    "data1 = rs2.iloc[:,0]\n",
    "data2 = rs2.iloc[:,1]\n",
    "test = abs(data1-data2) \n",
    "seed(0)\n",
    "#perform Kolmogorov-Smirnov test \n",
    "kstest(test, 'norm')"
   ]
  },
  {
   "cell_type": "code",
   "execution_count": 48,
   "metadata": {},
   "outputs": [
    {
     "data": {
      "text/plain": [
       "0.9932840926543179"
      ]
     },
     "execution_count": 48,
     "metadata": {},
     "output_type": "execute_result"
    }
   ],
   "source": [
    "from pyspark.ml.evaluation import MulticlassClassificationEvaluator\n",
    "my_mc_lr = MulticlassClassificationEvaluator(predictionCol='prediction', labelCol='label' , metricName='f1')\n",
    "my_mc_lr.evaluate(result.predictions)"
   ]
  },
  {
   "cell_type": "code",
   "execution_count": 49,
   "metadata": {},
   "outputs": [
    {
     "name": "stdout",
     "output_type": "stream",
     "text": [
      "+-----+----------+-----+\n",
      "|label|prediction|count|\n",
      "+-----+----------+-----+\n",
      "|  1.0|       1.0|    8|\n",
      "|  1.0|       0.0|   38|\n",
      "|  0.0|       0.0| 7596|\n",
      "+-----+----------+-----+\n",
      "\n"
     ]
    }
   ],
   "source": [
    "result.predictions.groupBy('label','prediction').count().show()"
   ]
  },
  {
   "cell_type": "code",
   "execution_count": null,
   "metadata": {},
   "outputs": [],
   "source": []
  }
 ],
 "metadata": {
  "kernelspec": {
   "display_name": "Python 3",
   "language": "python",
   "name": "python3"
  },
  "language_info": {
   "codemirror_mode": {
    "name": "ipython",
    "version": 3
   },
   "file_extension": ".py",
   "mimetype": "text/x-python",
   "name": "python",
   "nbconvert_exporter": "python",
   "pygments_lexer": "ipython3",
   "version": "3.9.4"
  }
 },
 "nbformat": 4,
 "nbformat_minor": 4
}
